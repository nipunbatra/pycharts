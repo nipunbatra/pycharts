{
 "metadata": {
  "name": ""
 },
 "nbformat": 3,
 "nbformat_minor": 0,
 "worksheets": [
  {
   "cells": [
    {
     "cell_type": "code",
     "collapsed": false,
     "input": [
      "import plotly\n",
      "import pandas as pd\n",
      "import numpy as np\n",
      "import random\n",
      "import string\n",
      "from IPython.display import HTML"
     ],
     "language": "python",
     "metadata": {},
     "outputs": [],
     "prompt_number": 23
    },
    {
     "cell_type": "code",
     "collapsed": false,
     "input": [
      "username = \"\".join([random.choice(string.ascii_letters + string.digits) for n in xrange(15)])\n",
      "email = username+\"@demo.com\""
     ],
     "language": "python",
     "metadata": {},
     "outputs": [],
     "prompt_number": 2
    },
    {
     "cell_type": "code",
     "collapsed": false,
     "input": [
      "res = plotly.signup(username,email);\n"
     ],
     "language": "python",
     "metadata": {},
     "outputs": [
      {
       "output_type": "stream",
       "stream": "stdout",
       "text": [
        "Thanks for signing up to plotly!\n",
        "\n",
        "Your username is: HIZLoaHEHa2nwm0\n",
        "\n",
        "Your temporary password is: 1zaob. You use this to log into your plotly account at https://plot.ly/plot.\n",
        "\n",
        "Your API key is: ceob975uss. You use this to access your plotly account through the API.\n",
        "\n",
        "To get started, initialize a plotly object with your username and api_key, e.g. \n",
        ">>> py = plotly.plotly('HIZLoaHEHa2nwm0', 'ceob975uss')\n",
        "Then, make a graph!\n",
        ">>> res = py.plot([1,2,3],[4,2,1])\n",
        "\n",
        ">>> print(res['url'])\n",
        "\n"
       ]
      }
     ],
     "prompt_number": 3
    },
    {
     "cell_type": "code",
     "collapsed": false,
     "input": [
      "from pycharts.plotly_chart import PlotlyChart"
     ],
     "language": "python",
     "metadata": {},
     "outputs": [],
     "prompt_number": 12
    },
    {
     "cell_type": "code",
     "collapsed": false,
     "input": [
      "res"
     ],
     "language": "python",
     "metadata": {},
     "outputs": [
      {
       "metadata": {},
       "output_type": "pyout",
       "prompt_number": 6,
       "text": [
        "{u'api_key': u'ceob975uss',\n",
        " u'error': u'',\n",
        " u'message': u\"Thanks for signing up to plotly!\\n\\nYour username is: HIZLoaHEHa2nwm0\\n\\nYour temporary password is: 1zaob. You use this to log into your plotly account at https://plot.ly/plot.\\n\\nYour API key is: ceob975uss. You use this to access your plotly account through the API.\\n\\nTo get started, initialize a plotly object with your username and api_key, e.g. \\n>>> py = plotly.plotly('HIZLoaHEHa2nwm0', 'ceob975uss')\\nThen, make a graph!\\n>>> res = py.plot([1,2,3],[4,2,1])\\n\\n>>> print(res['url'])\\n\",\n",
        " u'tmp_pw': u'1zaob',\n",
        " u'un': u'HIZLoaHEHa2nwm0'}"
       ]
      }
     ],
     "prompt_number": 6
    },
    {
     "cell_type": "code",
     "collapsed": false,
     "input": [
      "chart = PlotlyChart(res[\"un\"],res[\"api_key\"])"
     ],
     "language": "python",
     "metadata": {},
     "outputs": [],
     "prompt_number": 13
    },
    {
     "cell_type": "code",
     "collapsed": false,
     "input": [
      "df = pd.read_csv(\"../data/mtcars.csv\",index_col=0)"
     ],
     "language": "python",
     "metadata": {},
     "outputs": [],
     "prompt_number": 14
    },
    {
     "cell_type": "code",
     "collapsed": false,
     "input": [
      "chart.line(x=\"mpg\", ylist=[\"cyl\",\"disp\"], df=df)"
     ],
     "language": "python",
     "metadata": {},
     "outputs": [
      {
       "output_type": "stream",
       "stream": "stdout",
       "text": [
        "\n",
        "\n",
        "\n"
       ]
      },
      {
       "metadata": {},
       "output_type": "pyout",
       "prompt_number": 25,
       "text": [
        "u'<iframe height=\"650\" id=\"igraph\" scrolling=\"no\" seamless=\"seamless\" src=\"https://plot.ly/~HIZLoaHEHa2nwm0/1/900/600\" width=\"900\"></iframe>'"
       ]
      }
     ],
     "prompt_number": 25
    },
    {
     "cell_type": "code",
     "collapsed": false,
     "input": [
      "HTML(_)"
     ],
     "language": "python",
     "metadata": {},
     "outputs": [
      {
       "html": [
        "<iframe height=\"650\" id=\"igraph\" scrolling=\"no\" seamless=\"seamless\" src=\"https://plot.ly/~HIZLoaHEHa2nwm0/1/900/600\" width=\"900\"></iframe>"
       ],
       "metadata": {},
       "output_type": "pyout",
       "prompt_number": 26,
       "text": [
        "<IPython.core.display.HTML at 0x35293d0>"
       ]
      }
     ],
     "prompt_number": 26
    },
    {
     "cell_type": "code",
     "collapsed": false,
     "input": [],
     "language": "python",
     "metadata": {},
     "outputs": []
    }
   ],
   "metadata": {}
  }
 ]
}
{
 "metadata": {
  "name": ""
 },
 "nbformat": 3,
 "nbformat_minor": 0,
 "worksheets": [
  {
   "cells": [
    {
     "cell_type": "code",
     "collapsed": false,
     "input": [
      "import plotly\n",
      "import pandas as pd\n",
      "import numpy as np"
     ],
     "language": "python",
     "metadata": {},
     "outputs": [],
     "prompt_number": 5
    },
    {
     "cell_type": "code",
     "collapsed": false,
     "input": [
      "username = 'demo_user'\n",
      "email = 'user@demo.com'"
     ],
     "language": "python",
     "metadata": {},
     "outputs": [],
     "prompt_number": 8
    },
    {
     "cell_type": "code",
     "collapsed": false,
     "input": [
      "res = plotly.signup(username,email);\n"
     ],
     "language": "python",
     "metadata": {},
     "outputs": [
      {
       "output_type": "stream",
       "stream": "stdout",
       "text": [
        "Aw, snap! Either you've already signed-up with this username or this username has been taken. If you think you've already signed up, you can view your API key at https://plot.ly/api/key and sign in:\n",
        ">>> py = plotly.plotly('demo_user', api_key)\n",
        "Then, make a graph!\n",
        ">>> res = py.plot([1,2,3],[4,2,1])\n",
        "\n",
        ">>> print(res['url'])\n",
        "\n",
        "Need help? Feedback? Write support@plot.ly\n",
        "\n"
       ]
      }
     ],
     "prompt_number": 21
    },
    {
     "cell_type": "code",
     "collapsed": false,
     "input": [
      "py = plotly.plotly(res['un'], res['api_key'])"
     ],
     "language": "python",
     "metadata": {},
     "outputs": [],
     "prompt_number": 10
    },
    {
     "cell_type": "code",
     "collapsed": false,
     "input": [
      "def df_to_iplot(df):\n",
      "    \n",
      "    '''\n",
      "    Coverting a Pandas Data Frame to Plotly interface\n",
      "    '''\n",
      "    \n",
      "    if df.index.__class__.__name__==\"DatetimeIndex\":\n",
      "        #Convert the index to MySQL Datetime like strings\n",
      "        x=df.index.format()\n",
      "        #Alternatively, directly use x, since DateTime index is np.datetime64\n",
      "        #see http://nbviewer.ipython.org/gist/cparmer/7721116  \n",
      "        #x=df.index.values.astype('datetime64[s]')\n",
      "    else:\n",
      "        x = df.index.values        \n",
      "        \n",
      "    lines={}\n",
      "    for key in df:\n",
      "        lines[key]={}\n",
      "        lines[key][\"x\"]=x\n",
      "        lines[key][\"y\"]=df[key].values\n",
      "        lines[key][\"name\"]=key\n",
      "\n",
      "    #Appending all lines\n",
      "    lines_plotly=[lines[key] for key in df]\n",
      "    return lines_plotly"
     ],
     "language": "python",
     "metadata": {},
     "outputs": [],
     "prompt_number": 3
    },
    {
     "cell_type": "code",
     "collapsed": false,
     "input": [
      "date_rng = pd.date_range('2013-01-01 00:00','2013-01-03 10:00',freq='300s')\n",
      "df2=pd.DataFrame({'A':np.random.rand(len(date_rng)), 'B':np.random.rand(len(date_rng))}, index=date_rng)"
     ],
     "language": "python",
     "metadata": {},
     "outputs": [],
     "prompt_number": 6
    },
    {
     "cell_type": "code",
     "collapsed": false,
     "input": [
      "py.iplot(df_to_iplot(df2))"
     ],
     "language": "python",
     "metadata": {},
     "outputs": [
      {
       "output_type": "stream",
       "stream": "stdout",
       "text": [
        "\n",
        "\n",
        "\n"
       ]
      },
      {
       "html": [
        "<iframe height=\"650\" id=\"igraph\" scrolling=\"no\" seamless=\"seamless\" src=\"https://plot.ly/~demo_user/3/600/600\" width=\"650\"></iframe>"
       ],
       "metadata": {},
       "output_type": "pyout",
       "prompt_number": 20,
       "text": [
        "<IPython.core.display.HTML at 0x3a50b50>"
       ]
      }
     ],
     "prompt_number": 20
    },
    {
     "cell_type": "code",
     "collapsed": false,
     "input": [
      "res"
     ],
     "language": "python",
     "metadata": {},
     "outputs": [
      {
       "metadata": {},
       "output_type": "pyout",
       "prompt_number": 14,
       "text": [
        "{u'error': u'',\n",
        " u'filename': u'plot from API (1)',\n",
        " u'message': u'',\n",
        " u'url': u'https://plot.ly/~demo_user/1',\n",
        " u'warning': u''}"
       ]
      }
     ],
     "prompt_number": 14
    },
    {
     "cell_type": "code",
     "collapsed": false,
     "input": [
      "from IPython.display import HTML"
     ],
     "language": "python",
     "metadata": {},
     "outputs": [],
     "prompt_number": 12
    },
    {
     "cell_type": "code",
     "collapsed": false,
     "input": [
      "<iframe src=\\'%s\\'%res['url']"
     ],
     "language": "python",
     "metadata": {},
     "outputs": [
      {
       "ename": "SyntaxError",
       "evalue": "invalid syntax (<ipython-input-18-88b77f39b1ca>, line 1)",
       "output_type": "pyerr",
       "traceback": [
        "\u001b[1;36m  File \u001b[1;32m\"<ipython-input-18-88b77f39b1ca>\"\u001b[1;36m, line \u001b[1;32m1\u001b[0m\n\u001b[1;33m    <iframe src=\\'%s\\'%res['url']\u001b[0m\n\u001b[1;37m    ^\u001b[0m\n\u001b[1;31mSyntaxError\u001b[0m\u001b[1;31m:\u001b[0m invalid syntax\n"
       ]
      }
     ],
     "prompt_number": 18
    },
    {
     "cell_type": "code",
     "collapsed": false,
     "input": [],
     "language": "python",
     "metadata": {},
     "outputs": []
    }
   ],
   "metadata": {}
  }
 ]
}
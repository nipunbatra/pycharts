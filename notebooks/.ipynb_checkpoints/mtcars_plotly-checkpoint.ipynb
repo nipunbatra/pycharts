{
 "metadata": {
  "name": ""
 },
 "nbformat": 3,
 "nbformat_minor": 0,
 "worksheets": [
  {
   "cells": [
    {
     "cell_type": "code",
     "collapsed": false,
     "input": [
      "import plotly\n",
      "import pandas as pd\n",
      "import numpy as np\n",
      "import random\n",
      "import string"
     ],
     "language": "python",
     "metadata": {},
     "outputs": [
      {
       "output_type": "stream",
       "stream": "stderr",
       "text": [
        "/usr/local/lib/python2.7/dist-packages/pytz/__init__.py:29: UserWarning: Module dap was already imported from None, but /usr/lib/python2.7/dist-packages is being added to sys.path\n",
        "  from pkg_resources import resource_stream\n"
       ]
      }
     ],
     "prompt_number": 1
    },
    {
     "cell_type": "code",
     "collapsed": false,
     "input": [
      "username = \"\".join([random.choice(string.ascii_letters + string.digits) for n in xrange(15)])\n",
      "email = username+\"@demo.com\""
     ],
     "language": "python",
     "metadata": {},
     "outputs": [],
     "prompt_number": 2
    },
    {
     "cell_type": "code",
     "collapsed": false,
     "input": [
      "res = plotly.signup(username,email);\n"
     ],
     "language": "python",
     "metadata": {},
     "outputs": [
      {
       "output_type": "stream",
       "stream": "stdout",
       "text": [
        "Thanks for signing up to plotly!\n",
        "\n",
        "Your username is: HIZLoaHEHa2nwm0\n",
        "\n",
        "Your temporary password is: 1zaob. You use this to log into your plotly account at https://plot.ly/plot.\n",
        "\n",
        "Your API key is: ceob975uss. You use this to access your plotly account through the API.\n",
        "\n",
        "To get started, initialize a plotly object with your username and api_key, e.g. \n",
        ">>> py = plotly.plotly('HIZLoaHEHa2nwm0', 'ceob975uss')\n",
        "Then, make a graph!\n",
        ">>> res = py.plot([1,2,3],[4,2,1])\n",
        "\n",
        ">>> print(res['url'])\n",
        "\n"
       ]
      }
     ],
     "prompt_number": 3
    },
    {
     "cell_type": "code",
     "collapsed": false,
     "input": [
      "from pycharts.plotly_chart import PlotlyChart"
     ],
     "language": "python",
     "metadata": {},
     "outputs": [],
     "prompt_number": 12
    },
    {
     "cell_type": "code",
     "collapsed": false,
     "input": [
      "res"
     ],
     "language": "python",
     "metadata": {},
     "outputs": [
      {
       "metadata": {},
       "output_type": "pyout",
       "prompt_number": 6,
       "text": [
        "{u'api_key': u'ceob975uss',\n",
        " u'error': u'',\n",
        " u'message': u\"Thanks for signing up to plotly!\\n\\nYour username is: HIZLoaHEHa2nwm0\\n\\nYour temporary password is: 1zaob. You use this to log into your plotly account at https://plot.ly/plot.\\n\\nYour API key is: ceob975uss. You use this to access your plotly account through the API.\\n\\nTo get started, initialize a plotly object with your username and api_key, e.g. \\n>>> py = plotly.plotly('HIZLoaHEHa2nwm0', 'ceob975uss')\\nThen, make a graph!\\n>>> res = py.plot([1,2,3],[4,2,1])\\n\\n>>> print(res['url'])\\n\",\n",
        " u'tmp_pw': u'1zaob',\n",
        " u'un': u'HIZLoaHEHa2nwm0'}"
       ]
      }
     ],
     "prompt_number": 6
    },
    {
     "cell_type": "code",
     "collapsed": false,
     "input": [
      "chart = PlotlyChart(res[\"un\"],res[\"api_key\"])"
     ],
     "language": "python",
     "metadata": {},
     "outputs": [],
     "prompt_number": 13
    },
    {
     "cell_type": "code",
     "collapsed": false,
     "input": [
      "df = pd.read_csv(\"../data/mtcars.csv\",index_col=0)"
     ],
     "language": "python",
     "metadata": {},
     "outputs": [],
     "prompt_number": 14
    },
    {
     "cell_type": "code",
     "collapsed": false,
     "input": [
      "chart.line(x=\"mpg\", ylist=[\"cyl\",\"disp\"], df=df)"
     ],
     "language": "python",
     "metadata": {},
     "outputs": [
      {
       "metadata": {},
       "output_type": "pyout",
       "prompt_number": 20,
       "text": [
        "[{'name': 'cyl',\n",
        "  'x': array([ 21. ,  21. ,  22.8,  21.4,  18.7,  18.1,  14.3,  24.4,  22.8,\n",
        "        19.2,  17.8,  16.4,  17.3,  15.2,  10.4,  10.4,  14.7,  32.4,\n",
        "        30.4,  33.9,  21.5,  15.5,  15.2,  13.3,  19.2,  27.3,  26. ,\n",
        "        30.4,  15.8,  19.7,  15. ,  21.4]),\n",
        "  'y': array([6, 6, 4, 6, 8, 6, 8, 4, 4, 6, 6, 8, 8, 8, 8, 8, 8, 4, 4, 4, 4, 8, 8,\n",
        "       8, 8, 4, 4, 4, 8, 6, 8, 4])},\n",
        " {'name': 'disp',\n",
        "  'x': array([ 21. ,  21. ,  22.8,  21.4,  18.7,  18.1,  14.3,  24.4,  22.8,\n",
        "        19.2,  17.8,  16.4,  17.3,  15.2,  10.4,  10.4,  14.7,  32.4,\n",
        "        30.4,  33.9,  21.5,  15.5,  15.2,  13.3,  19.2,  27.3,  26. ,\n",
        "        30.4,  15.8,  19.7,  15. ,  21.4]),\n",
        "  'y': array([ 160. ,  160. ,  108. ,  258. ,  360. ,  225. ,  360. ,  146.7,\n",
        "        140.8,  167.6,  167.6,  275.8,  275.8,  275.8,  472. ,  460. ,\n",
        "        440. ,   78.7,   75.7,   71.1,  120.1,  318. ,  304. ,  350. ,\n",
        "        400. ,   79. ,  120.3,   95.1,  351. ,  145. ,  301. ,  121. ])}]"
       ]
      }
     ],
     "prompt_number": 20
    },
    {
     "cell_type": "code",
     "collapsed": false,
     "input": [],
     "language": "python",
     "metadata": {},
     "outputs": []
    }
   ],
   "metadata": {}
  }
 ]
}